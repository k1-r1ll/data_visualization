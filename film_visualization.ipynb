{
 "cells": [
  {
   "cell_type": "markdown",
   "id": "798103c9",
   "metadata": {},
   "source": [
    "# Film crew waffle charts"
   ]
  },
  {
   "cell_type": "markdown",
   "id": "585c1fd3",
   "metadata": {},
   "source": [
    "**Goal.** We use dataset ‘tmdb_5000_credits’ that has information for hundreds movies from tmdb.<br>\n",
    "Our goal is to analyze crew of the first 50 films in the dataset.<br>\n",
    "We will see, how many crew members each speciality has, take the three most popular ones and build<br>\n",
    "several waffle charts based on them."
   ]
  },
  {
   "cell_type": "markdown",
   "id": "7bab4012",
   "metadata": {},
   "source": [
    "# Step 1. Preparing dataset"
   ]
  },
  {
   "cell_type": "markdown",
   "id": "cefad5aa",
   "metadata": {},
   "source": [
    "Load libraries.<br>\n",
    "As cast and crew members features has json type we also need json library."
   ]
  },
  {
   "cell_type": "code",
   "execution_count": 95,
   "id": "b8b2b799",
   "metadata": {},
   "outputs": [],
   "source": [
    "import numpy as np\n",
    "import pandas as pd\n",
    "import json as js"
   ]
  },
  {
   "cell_type": "markdown",
   "id": "cce56245",
   "metadata": {},
   "source": [
    "Also we import necessary matplotlib modules, changing plot style to **ggplot.**"
   ]
  },
  {
   "cell_type": "code",
   "execution_count": 96,
   "id": "9f5a4d92",
   "metadata": {},
   "outputs": [],
   "source": [
    "%matplotlib inline\n",
    "import matplotlib as mpl\n",
    "import matplotlib.pyplot as plt\n",
    "import matplotlib.patches as mpatches\n",
    "mpl.style.use('ggplot')"
   ]
  },
  {
   "cell_type": "markdown",
   "id": "759bd0cd",
   "metadata": {},
   "source": [
    "Let’s download the main dataset."
   ]
  },
  {
   "cell_type": "code",
   "execution_count": 97,
   "id": "be11ce30",
   "metadata": {},
   "outputs": [],
   "source": [
    "data = pd.read_csv('tmdb_5000_credits.csv')"
   ]
  },
  {
   "cell_type": "markdown",
   "id": "d868924d",
   "metadata": {},
   "source": [
    "We can check the first five instances and the data feature types."
   ]
  },
  {
   "cell_type": "code",
   "execution_count": 98,
   "id": "32f8c9e0",
   "metadata": {},
   "outputs": [
    {
     "data": {
      "text/html": [
       "<div>\n",
       "<style scoped>\n",
       "    .dataframe tbody tr th:only-of-type {\n",
       "        vertical-align: middle;\n",
       "    }\n",
       "\n",
       "    .dataframe tbody tr th {\n",
       "        vertical-align: top;\n",
       "    }\n",
       "\n",
       "    .dataframe thead th {\n",
       "        text-align: right;\n",
       "    }\n",
       "</style>\n",
       "<table border=\"1\" class=\"dataframe\">\n",
       "  <thead>\n",
       "    <tr style=\"text-align: right;\">\n",
       "      <th></th>\n",
       "      <th>movie_id</th>\n",
       "      <th>title</th>\n",
       "      <th>cast</th>\n",
       "      <th>crew</th>\n",
       "    </tr>\n",
       "  </thead>\n",
       "  <tbody>\n",
       "    <tr>\n",
       "      <th>0</th>\n",
       "      <td>19995</td>\n",
       "      <td>Avatar</td>\n",
       "      <td>[{\"cast_id\": 242, \"character\": \"Jake Sully\", \"...</td>\n",
       "      <td>[{\"credit_id\": \"52fe48009251416c750aca23\", \"de...</td>\n",
       "    </tr>\n",
       "    <tr>\n",
       "      <th>1</th>\n",
       "      <td>285</td>\n",
       "      <td>Pirates of the Caribbean: At World's End</td>\n",
       "      <td>[{\"cast_id\": 4, \"character\": \"Captain Jack Spa...</td>\n",
       "      <td>[{\"credit_id\": \"52fe4232c3a36847f800b579\", \"de...</td>\n",
       "    </tr>\n",
       "    <tr>\n",
       "      <th>2</th>\n",
       "      <td>206647</td>\n",
       "      <td>Spectre</td>\n",
       "      <td>[{\"cast_id\": 1, \"character\": \"James Bond\", \"cr...</td>\n",
       "      <td>[{\"credit_id\": \"54805967c3a36829b5002c41\", \"de...</td>\n",
       "    </tr>\n",
       "    <tr>\n",
       "      <th>3</th>\n",
       "      <td>49026</td>\n",
       "      <td>The Dark Knight Rises</td>\n",
       "      <td>[{\"cast_id\": 2, \"character\": \"Bruce Wayne / Ba...</td>\n",
       "      <td>[{\"credit_id\": \"52fe4781c3a36847f81398c3\", \"de...</td>\n",
       "    </tr>\n",
       "    <tr>\n",
       "      <th>4</th>\n",
       "      <td>49529</td>\n",
       "      <td>John Carter</td>\n",
       "      <td>[{\"cast_id\": 5, \"character\": \"John Carter\", \"c...</td>\n",
       "      <td>[{\"credit_id\": \"52fe479ac3a36847f813eaa3\", \"de...</td>\n",
       "    </tr>\n",
       "  </tbody>\n",
       "</table>\n",
       "</div>"
      ],
      "text/plain": [
       "   movie_id                                     title  \\\n",
       "0     19995                                    Avatar   \n",
       "1       285  Pirates of the Caribbean: At World's End   \n",
       "2    206647                                   Spectre   \n",
       "3     49026                     The Dark Knight Rises   \n",
       "4     49529                               John Carter   \n",
       "\n",
       "                                                cast  \\\n",
       "0  [{\"cast_id\": 242, \"character\": \"Jake Sully\", \"...   \n",
       "1  [{\"cast_id\": 4, \"character\": \"Captain Jack Spa...   \n",
       "2  [{\"cast_id\": 1, \"character\": \"James Bond\", \"cr...   \n",
       "3  [{\"cast_id\": 2, \"character\": \"Bruce Wayne / Ba...   \n",
       "4  [{\"cast_id\": 5, \"character\": \"John Carter\", \"c...   \n",
       "\n",
       "                                                crew  \n",
       "0  [{\"credit_id\": \"52fe48009251416c750aca23\", \"de...  \n",
       "1  [{\"credit_id\": \"52fe4232c3a36847f800b579\", \"de...  \n",
       "2  [{\"credit_id\": \"54805967c3a36829b5002c41\", \"de...  \n",
       "3  [{\"credit_id\": \"52fe4781c3a36847f81398c3\", \"de...  \n",
       "4  [{\"credit_id\": \"52fe479ac3a36847f813eaa3\", \"de...  "
      ]
     },
     "execution_count": 98,
     "metadata": {},
     "output_type": "execute_result"
    }
   ],
   "source": [
    "data.head()"
   ]
  },
  {
   "cell_type": "code",
   "execution_count": 99,
   "id": "cf9ab9c3",
   "metadata": {},
   "outputs": [
    {
     "name": "stdout",
     "output_type": "stream",
     "text": [
      "<class 'pandas.core.frame.DataFrame'>\n",
      "RangeIndex: 4803 entries, 0 to 4802\n",
      "Data columns (total 4 columns):\n",
      " #   Column    Non-Null Count  Dtype \n",
      "---  ------    --------------  ----- \n",
      " 0   movie_id  4803 non-null   int64 \n",
      " 1   title     4803 non-null   object\n",
      " 2   cast      4803 non-null   object\n",
      " 3   crew      4803 non-null   object\n",
      "dtypes: int64(1), object(3)\n",
      "memory usage: 150.2+ KB\n"
     ]
    }
   ],
   "source": [
    "data.info()"
   ]
  },
  {
   "cell_type": "markdown",
   "id": "74adf6a1",
   "metadata": {},
   "source": [
    "We see that the feature we are interested in (**crew**) has **object** type.<br>\n",
    "Let’s make a work sub-dataset, containing the first 50 movies and their crew feature.<br>\n",
    "We also create a dictionary **all_jobs** with position counter throughout the sub-data."
   ]
  },
  {
   "cell_type": "code",
   "execution_count": 100,
   "id": "da7dec94",
   "metadata": {},
   "outputs": [],
   "source": [
    "work_data = data.head(50).loc[:,'crew']\n",
    "all_jobs = {}"
   ]
  },
  {
   "cell_type": "markdown",
   "id": "58fe6864",
   "metadata": {},
   "source": [
    "Let’s count all the positions parsing feature data."
   ]
  },
  {
   "cell_type": "code",
   "execution_count": 101,
   "id": "13d7daf8",
   "metadata": {},
   "outputs": [],
   "source": [
    "for jobs in work_data:\n",
    "    df = js.loads(jobs)\n",
    "    result = [person[key] for key, value in person.items() if key=='job' for person in df]\n",
    "    for position in result:\n",
    "        all_jobs[position] = all_jobs.get(position, 0) + 1"
   ]
  },
  {
   "cell_type": "markdown",
   "id": "1b3c7eed",
   "metadata": {},
   "source": [
    "Then we sort the results by the amoung of people (in a reverse way), save the first three result in a new variable, create dataframe from it, change the columns names, and make new index rows right from the positions."
   ]
  },
  {
   "cell_type": "code",
   "execution_count": 102,
   "id": "2464c755",
   "metadata": {},
   "outputs": [],
   "source": [
    "jobs_sum = pd.DataFrame(sorted(all_jobs.items(), key=lambda x: (-x[1], x[0]))[:3])\n",
    "jobs_sum.columns = ['position', 'total']\n",
    "jobs_sum.index = jobs_sum.position\n",
    "jobs_sum.drop(\"position\", axis=1, inplace=True)"
   ]
  },
  {
   "cell_type": "markdown",
   "id": "4a6a9e72",
   "metadata": {},
   "source": [
    "Now we can check the result."
   ]
  },
  {
   "cell_type": "code",
   "execution_count": 103,
   "id": "ed17e6a8",
   "metadata": {},
   "outputs": [
    {
     "data": {
      "text/html": [
       "<div>\n",
       "<style scoped>\n",
       "    .dataframe tbody tr th:only-of-type {\n",
       "        vertical-align: middle;\n",
       "    }\n",
       "\n",
       "    .dataframe tbody tr th {\n",
       "        vertical-align: top;\n",
       "    }\n",
       "\n",
       "    .dataframe thead th {\n",
       "        text-align: right;\n",
       "    }\n",
       "</style>\n",
       "<table border=\"1\" class=\"dataframe\">\n",
       "  <thead>\n",
       "    <tr style=\"text-align: right;\">\n",
       "      <th></th>\n",
       "      <th>total</th>\n",
       "    </tr>\n",
       "    <tr>\n",
       "      <th>position</th>\n",
       "      <th></th>\n",
       "    </tr>\n",
       "  </thead>\n",
       "  <tbody>\n",
       "    <tr>\n",
       "      <th>Executive Producer</th>\n",
       "      <td>155</td>\n",
       "    </tr>\n",
       "    <tr>\n",
       "      <th>Art Direction</th>\n",
       "      <td>151</td>\n",
       "    </tr>\n",
       "    <tr>\n",
       "      <th>Producer</th>\n",
       "      <td>140</td>\n",
       "    </tr>\n",
       "  </tbody>\n",
       "</table>\n",
       "</div>"
      ],
      "text/plain": [
       "                    total\n",
       "position                 \n",
       "Executive Producer    155\n",
       "Art Direction         151\n",
       "Producer              140"
      ]
     },
     "execution_count": 103,
     "metadata": {},
     "output_type": "execute_result"
    }
   ],
   "source": [
    "jobs_sum"
   ]
  },
  {
   "cell_type": "markdown",
   "id": "65fe3962",
   "metadata": {},
   "source": [
    "The sub-dataframe is ready for visualization."
   ]
  },
  {
   "cell_type": "markdown",
   "id": "9ce181c8",
   "metadata": {},
   "source": [
    "# Step 2. Generating waffle-charts"
   ]
  },
  {
   "cell_type": "markdown",
   "id": "0bd8d7a6",
   "metadata": {},
   "source": [
    "First, we create width and height variables – parameters of the future charts."
   ]
  },
  {
   "cell_type": "code",
   "execution_count": 104,
   "id": "c35a9587",
   "metadata": {},
   "outputs": [],
   "source": [
    "width = 40\n",
    "height = 10"
   ]
  },
  {
   "cell_type": "markdown",
   "id": "e7951299",
   "metadata": {},
   "source": [
    "Then we create an empty matrix for the chart and fill it."
   ]
  },
  {
   "cell_type": "code",
   "execution_count": 105,
   "id": "2734e6dd",
   "metadata": {},
   "outputs": [],
   "source": [
    "waffle_chart = np.zeros((height, width), dtype = np.uint)\n",
    "category_index = 0\n",
    "tile_index = 0\n",
    "\n",
    "for col in range(width):\n",
    "    for row in range(height):\n",
    "        tile_index += 1\n",
    "        \n",
    "        if tile_index > sum(jobs_sum['total'][0:category_index]):\n",
    "            category_index += 1\n",
    "        waffle_chart[row, col] = category_index"
   ]
  },
  {
   "cell_type": "markdown",
   "id": "5d9c8e1f",
   "metadata": {},
   "source": [
    "Let’s check the result."
   ]
  },
  {
   "cell_type": "code",
   "execution_count": 106,
   "id": "6d86fbad",
   "metadata": {},
   "outputs": [
    {
     "data": {
      "text/plain": [
       "array([[1, 1, 1, 1, 1, 1, 1, 1, 1, 1, 1, 1, 1, 1, 1, 1, 2, 2, 2, 2, 2, 2,\n",
       "        2, 2, 2, 2, 2, 2, 2, 2, 2, 3, 3, 3, 3, 3, 3, 3, 3, 3],\n",
       "       [1, 1, 1, 1, 1, 1, 1, 1, 1, 1, 1, 1, 1, 1, 1, 1, 2, 2, 2, 2, 2, 2,\n",
       "        2, 2, 2, 2, 2, 2, 2, 2, 2, 3, 3, 3, 3, 3, 3, 3, 3, 3],\n",
       "       [1, 1, 1, 1, 1, 1, 1, 1, 1, 1, 1, 1, 1, 1, 1, 1, 2, 2, 2, 2, 2, 2,\n",
       "        2, 2, 2, 2, 2, 2, 2, 2, 2, 3, 3, 3, 3, 3, 3, 3, 3, 3],\n",
       "       [1, 1, 1, 1, 1, 1, 1, 1, 1, 1, 1, 1, 1, 1, 1, 1, 2, 2, 2, 2, 2, 2,\n",
       "        2, 2, 2, 2, 2, 2, 2, 2, 2, 3, 3, 3, 3, 3, 3, 3, 3, 3],\n",
       "       [1, 1, 1, 1, 1, 1, 1, 1, 1, 1, 1, 1, 1, 1, 1, 1, 2, 2, 2, 2, 2, 2,\n",
       "        2, 2, 2, 2, 2, 2, 2, 2, 2, 3, 3, 3, 3, 3, 3, 3, 3, 3],\n",
       "       [1, 1, 1, 1, 1, 1, 1, 1, 1, 1, 1, 1, 1, 1, 1, 2, 2, 2, 2, 2, 2, 2,\n",
       "        2, 2, 2, 2, 2, 2, 2, 2, 2, 3, 3, 3, 3, 3, 3, 3, 3, 3],\n",
       "       [1, 1, 1, 1, 1, 1, 1, 1, 1, 1, 1, 1, 1, 1, 1, 2, 2, 2, 2, 2, 2, 2,\n",
       "        2, 2, 2, 2, 2, 2, 2, 2, 3, 3, 3, 3, 3, 3, 3, 3, 3, 3],\n",
       "       [1, 1, 1, 1, 1, 1, 1, 1, 1, 1, 1, 1, 1, 1, 1, 2, 2, 2, 2, 2, 2, 2,\n",
       "        2, 2, 2, 2, 2, 2, 2, 2, 3, 3, 3, 3, 3, 3, 3, 3, 3, 3],\n",
       "       [1, 1, 1, 1, 1, 1, 1, 1, 1, 1, 1, 1, 1, 1, 1, 2, 2, 2, 2, 2, 2, 2,\n",
       "        2, 2, 2, 2, 2, 2, 2, 2, 3, 3, 3, 3, 3, 3, 3, 3, 3, 3],\n",
       "       [1, 1, 1, 1, 1, 1, 1, 1, 1, 1, 1, 1, 1, 1, 1, 2, 2, 2, 2, 2, 2, 2,\n",
       "        2, 2, 2, 2, 2, 2, 2, 2, 3, 3, 3, 3, 3, 3, 3, 3, 3, 3]],\n",
       "      dtype=uint32)"
      ]
     },
     "execution_count": 106,
     "metadata": {},
     "output_type": "execute_result"
    }
   ],
   "source": [
    "waffle_chart"
   ]
  },
  {
   "cell_type": "markdown",
   "id": "5e2c7852",
   "metadata": {},
   "source": [
    "Now can show the waffle chart as a new figure."
   ]
  },
  {
   "cell_type": "code",
   "execution_count": 107,
   "id": "0c11812c",
   "metadata": {},
   "outputs": [
    {
     "data": {
      "text/plain": [
       "<Figure size 432x288 with 0 Axes>"
      ]
     },
     "metadata": {},
     "output_type": "display_data"
    },
    {
     "data": {
      "image/png": "[encoded data removed]",
      "text/plain": [
       "<Figure size 1152x288 with 2 Axes>"
      ]
     },
     "metadata": {},
     "output_type": "display_data"
    }
   ],
   "source": [
    "fig = plt.figure()\n",
    "\n",
    "colormap = plt.cm.coolwarm\n",
    "plt.matshow(waffle_chart, cmap=colormap)\n",
    "plt.colorbar()\n",
    "plt.show()"
   ]
  },
  {
   "cell_type": "markdown",
   "id": "33224aa6",
   "metadata": {},
   "source": [
    "We see, that Executive Producer and Art Direction have almost the same areas (blue and grey),<br>while the Producer has the smallest area (the red one)."
   ]
  },
  {
   "cell_type": "markdown",
   "id": "60e26304",
   "metadata": {},
   "source": [
    "To make our chart more clear, we can use detailed ticks. The amount of ticks for the feature<br>\n",
    "will be equal to its value in **total** column.<br>\n",
    "We will use the same steps adding only setting of axes and minor ticks."
   ]
  },
  {
   "cell_type": "code",
   "execution_count": 108,
   "id": "6d63f846",
   "metadata": {},
   "outputs": [
    {
     "data": {
      "text/plain": [
       "<Figure size 432x288 with 0 Axes>"
      ]
     },
     "metadata": {},
     "output_type": "display_data"
    },
    {
     "data": {
      "image/png": "[encoded data removed]",
      "text/plain": [
       "<Figure size 1152x288 with 2 Axes>"
      ]
     },
     "metadata": {},
     "output_type": "display_data"
    }
   ],
   "source": [
    "fig = plt.figure()\n",
    "\n",
    "colormap = plt.cm.coolwarm\n",
    "plt.matshow(waffle_chart, cmap=colormap)\n",
    "plt.colorbar()\n",
    "\n",
    "ax = plt.gca()\n",
    "\n",
    "ax.set_xticks(np.arange(-.5, (width), 1), minor=True)\n",
    "ax.set_yticks(np.arange(-.5, (height), 1), minor=True)\n",
    "    \n",
    "ax.grid(which='minor', color='w', linestyle='-', linewidth=2)\n",
    "\n",
    "plt.xticks([])\n",
    "plt.yticks([])\n",
    "plt.show()"
   ]
  },
  {
   "cell_type": "markdown",
   "id": "bb14ee0b",
   "metadata": {},
   "source": [
    "Now the feature areas are more detailed.<br>\n",
    "We can improve this even more by adding legend, which will show the correspondence between crew role and the color.<br>\n",
    "In this case we put necessary comments to the script below."
   ]
  },
  {
   "cell_type": "code",
   "execution_count": 109,
   "id": "eb11d2a0",
   "metadata": {},
   "outputs": [
    {
     "data": {
      "text/plain": [
       "<Figure size 432x288 with 0 Axes>"
      ]
     },
     "metadata": {},
     "output_type": "display_data"
    },
    {
     "data": {
      "image/png": "[encoded data removed]",
      "text/plain": [
       "<Figure size 1152x288 with 2 Axes>"
      ]
     },
     "metadata": {},
     "output_type": "display_data"
    }
   ],
   "source": [
    "# Base for the new chart\n",
    "fig = plt.figure()\n",
    "\n",
    "colormap = plt.cm.coolwarm\n",
    "plt.matshow(waffle_chart, cmap=colormap)\n",
    "plt.colorbar()\n",
    "\n",
    "# Set axes and minor ticks\n",
    "ax = plt.gca()\n",
    "\n",
    "ax.set_xticks(np.arange(-.5, (width), 1), minor=True)\n",
    "ax.set_yticks(np.arange(-.5, (height), 1), minor=True)\n",
    "    \n",
    "ax.grid(which='minor', color='w', linestyle='-', linewidth=2)\n",
    "\n",
    "plt.xticks([])\n",
    "plt.yticks([])\n",
    "\n",
    "# Creating legend\n",
    "values_cumsum = np.cumsum(jobs_sum['total'])\n",
    "total_values = values_cumsum[len(values_cumsum) - 1]\n",
    "\n",
    "legend_handles = []\n",
    "for i, category in enumerate(jobs_sum.index.values):\n",
    "    label_str = category + ' (' + str(jobs_sum['total'][i]) + ')'\n",
    "    color_val = colormap(float(values_cumsum[i])/total_values)\n",
    "    legend_handles.append(mpatches.Patch(color=color_val, label=label_str))\n",
    "\n",
    "plt.legend(handles=legend_handles,\n",
    "           loc='lower center', \n",
    "           ncol=len(jobs_sum.index.values),\n",
    "           bbox_to_anchor=(0., -0.2, 0.95, .1))    \n",
    "\n",
    "# Showing the chart\n",
    "plt.show()"
   ]
  },
  {
   "cell_type": "markdown",
   "id": "feed494b",
   "metadata": {},
   "source": [
    "**Result.** We have found three most popular roles for the first 50 movies in the dataset – Executive Producer, Art Direction and Producer. We also used waffle charts for visualization of their corespond values: basic, with detailed ticks and with legend."
   ]
  }
 ],
 "metadata": {
  "kernelspec": {
   "display_name": "Python 3 (ipykernel)",
   "language": "python",
   "name": "python3"
  },
  "language_info": {
   "codemirror_mode": {
    "name": "ipython",
    "version": 3
   },
   "file_extension": ".py",
   "mimetype": "text/x-python",
   "name": "python",
   "nbconvert_exporter": "python",
   "pygments_lexer": "ipython3",
   "version": "3.9.7"
  }
 },
 "nbformat": 4,
 "nbformat_minor": 5
}
